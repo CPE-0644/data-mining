{
 "cells": [
  {
   "cell_type": "markdown",
   "metadata": {},
   "source": [
    "# Neural Network\n",
    "\n",
    "### นายพัสกร โตวตระกูล รหัสนักศึกษา 590610644\n"
   ]
  },
  {
   "cell_type": "code",
   "execution_count": 1,
   "metadata": {
    "collapsed": true
   },
   "outputs": [],
   "source": [
    "%matplotlib inline\n",
    "\n",
    "import matplotlib.pyplot as plt\n",
    "import numpy as np\n",
    "import pandas as pd\n",
    "import seaborn as sns\n",
    "from sklearn.model_selection import KFold, train_test_split\n",
    "from sklearn import  datasets\n",
    "\n",
    "audit = pd.read_csv('audit_data/audit_risk.csv')"
   ]
  },
  {
   "cell_type": "markdown",
   "metadata": {},
   "source": [
    "## รายละเอียดข้อมูลที่ใช้ในการทดลอง"
   ]
  },
  {
   "cell_type": "code",
   "execution_count": 2,
   "metadata": {
    "scrolled": true
   },
   "outputs": [
    {
     "data": {
      "text/html": [
       "<div>\n",
       "<style>\n",
       "    .dataframe thead tr:only-child th {\n",
       "        text-align: right;\n",
       "    }\n",
       "\n",
       "    .dataframe thead th {\n",
       "        text-align: left;\n",
       "    }\n",
       "\n",
       "    .dataframe tbody tr th {\n",
       "        vertical-align: top;\n",
       "    }\n",
       "</style>\n",
       "<table border=\"1\" class=\"dataframe\">\n",
       "  <thead>\n",
       "    <tr style=\"text-align: right;\">\n",
       "      <th></th>\n",
       "      <th>Sector_score</th>\n",
       "      <th>PARA_A</th>\n",
       "      <th>Score_A</th>\n",
       "      <th>Risk_A</th>\n",
       "      <th>PARA_B</th>\n",
       "      <th>Score_B</th>\n",
       "      <th>Risk_B</th>\n",
       "      <th>TOTAL</th>\n",
       "      <th>numbers</th>\n",
       "      <th>Score_B.1</th>\n",
       "      <th>...</th>\n",
       "      <th>RiSk_E</th>\n",
       "      <th>History</th>\n",
       "      <th>Prob</th>\n",
       "      <th>Risk_F</th>\n",
       "      <th>Score</th>\n",
       "      <th>Inherent_Risk</th>\n",
       "      <th>CONTROL_RISK</th>\n",
       "      <th>Detection_Risk</th>\n",
       "      <th>Audit_Risk</th>\n",
       "      <th>Risk</th>\n",
       "    </tr>\n",
       "  </thead>\n",
       "  <tbody>\n",
       "    <tr>\n",
       "      <th>count</th>\n",
       "      <td>776.000000</td>\n",
       "      <td>776.000000</td>\n",
       "      <td>776.000000</td>\n",
       "      <td>776.000000</td>\n",
       "      <td>776.000000</td>\n",
       "      <td>776.000000</td>\n",
       "      <td>776.000000</td>\n",
       "      <td>776.000000</td>\n",
       "      <td>776.000000</td>\n",
       "      <td>776.000000</td>\n",
       "      <td>...</td>\n",
       "      <td>776.000000</td>\n",
       "      <td>776.000000</td>\n",
       "      <td>776.000000</td>\n",
       "      <td>776.000000</td>\n",
       "      <td>776.000000</td>\n",
       "      <td>776.000000</td>\n",
       "      <td>776.000000</td>\n",
       "      <td>776.0</td>\n",
       "      <td>776.000000</td>\n",
       "      <td>776.000000</td>\n",
       "    </tr>\n",
       "    <tr>\n",
       "      <th>mean</th>\n",
       "      <td>20.184536</td>\n",
       "      <td>2.450194</td>\n",
       "      <td>0.351289</td>\n",
       "      <td>1.351029</td>\n",
       "      <td>10.799988</td>\n",
       "      <td>0.313144</td>\n",
       "      <td>6.334008</td>\n",
       "      <td>13.218481</td>\n",
       "      <td>5.067655</td>\n",
       "      <td>0.223711</td>\n",
       "      <td>...</td>\n",
       "      <td>0.519072</td>\n",
       "      <td>0.104381</td>\n",
       "      <td>0.216753</td>\n",
       "      <td>0.053608</td>\n",
       "      <td>2.702577</td>\n",
       "      <td>17.680612</td>\n",
       "      <td>0.572680</td>\n",
       "      <td>0.5</td>\n",
       "      <td>7.168158</td>\n",
       "      <td>0.393041</td>\n",
       "    </tr>\n",
       "    <tr>\n",
       "      <th>std</th>\n",
       "      <td>24.319017</td>\n",
       "      <td>5.678870</td>\n",
       "      <td>0.174055</td>\n",
       "      <td>3.440447</td>\n",
       "      <td>50.083624</td>\n",
       "      <td>0.169804</td>\n",
       "      <td>30.072845</td>\n",
       "      <td>51.312829</td>\n",
       "      <td>0.264449</td>\n",
       "      <td>0.080352</td>\n",
       "      <td>...</td>\n",
       "      <td>0.290312</td>\n",
       "      <td>0.531031</td>\n",
       "      <td>0.067987</td>\n",
       "      <td>0.305835</td>\n",
       "      <td>0.858923</td>\n",
       "      <td>54.740244</td>\n",
       "      <td>0.444581</td>\n",
       "      <td>0.0</td>\n",
       "      <td>38.667494</td>\n",
       "      <td>0.488741</td>\n",
       "    </tr>\n",
       "    <tr>\n",
       "      <th>min</th>\n",
       "      <td>1.850000</td>\n",
       "      <td>0.000000</td>\n",
       "      <td>0.200000</td>\n",
       "      <td>0.000000</td>\n",
       "      <td>0.000000</td>\n",
       "      <td>0.200000</td>\n",
       "      <td>0.000000</td>\n",
       "      <td>0.000000</td>\n",
       "      <td>5.000000</td>\n",
       "      <td>0.200000</td>\n",
       "      <td>...</td>\n",
       "      <td>0.400000</td>\n",
       "      <td>0.000000</td>\n",
       "      <td>0.200000</td>\n",
       "      <td>0.000000</td>\n",
       "      <td>2.000000</td>\n",
       "      <td>1.400000</td>\n",
       "      <td>0.400000</td>\n",
       "      <td>0.5</td>\n",
       "      <td>0.280000</td>\n",
       "      <td>0.000000</td>\n",
       "    </tr>\n",
       "    <tr>\n",
       "      <th>25%</th>\n",
       "      <td>2.370000</td>\n",
       "      <td>0.210000</td>\n",
       "      <td>0.200000</td>\n",
       "      <td>0.042000</td>\n",
       "      <td>0.000000</td>\n",
       "      <td>0.200000</td>\n",
       "      <td>0.000000</td>\n",
       "      <td>0.537500</td>\n",
       "      <td>5.000000</td>\n",
       "      <td>0.200000</td>\n",
       "      <td>...</td>\n",
       "      <td>0.400000</td>\n",
       "      <td>0.000000</td>\n",
       "      <td>0.200000</td>\n",
       "      <td>0.000000</td>\n",
       "      <td>2.000000</td>\n",
       "      <td>1.583500</td>\n",
       "      <td>0.400000</td>\n",
       "      <td>0.5</td>\n",
       "      <td>0.316700</td>\n",
       "      <td>0.000000</td>\n",
       "    </tr>\n",
       "    <tr>\n",
       "      <th>50%</th>\n",
       "      <td>3.890000</td>\n",
       "      <td>0.875000</td>\n",
       "      <td>0.200000</td>\n",
       "      <td>0.175000</td>\n",
       "      <td>0.405000</td>\n",
       "      <td>0.200000</td>\n",
       "      <td>0.081000</td>\n",
       "      <td>1.370000</td>\n",
       "      <td>5.000000</td>\n",
       "      <td>0.200000</td>\n",
       "      <td>...</td>\n",
       "      <td>0.400000</td>\n",
       "      <td>0.000000</td>\n",
       "      <td>0.200000</td>\n",
       "      <td>0.000000</td>\n",
       "      <td>2.400000</td>\n",
       "      <td>2.214000</td>\n",
       "      <td>0.400000</td>\n",
       "      <td>0.5</td>\n",
       "      <td>0.555600</td>\n",
       "      <td>0.000000</td>\n",
       "    </tr>\n",
       "    <tr>\n",
       "      <th>75%</th>\n",
       "      <td>55.570000</td>\n",
       "      <td>2.480000</td>\n",
       "      <td>0.600000</td>\n",
       "      <td>1.488000</td>\n",
       "      <td>4.160000</td>\n",
       "      <td>0.400000</td>\n",
       "      <td>1.840500</td>\n",
       "      <td>7.707500</td>\n",
       "      <td>5.000000</td>\n",
       "      <td>0.200000</td>\n",
       "      <td>...</td>\n",
       "      <td>0.400000</td>\n",
       "      <td>0.000000</td>\n",
       "      <td>0.200000</td>\n",
       "      <td>0.000000</td>\n",
       "      <td>3.250000</td>\n",
       "      <td>10.663500</td>\n",
       "      <td>0.400000</td>\n",
       "      <td>0.5</td>\n",
       "      <td>3.249900</td>\n",
       "      <td>1.000000</td>\n",
       "    </tr>\n",
       "    <tr>\n",
       "      <th>max</th>\n",
       "      <td>59.850000</td>\n",
       "      <td>85.000000</td>\n",
       "      <td>0.600000</td>\n",
       "      <td>51.000000</td>\n",
       "      <td>1264.630000</td>\n",
       "      <td>0.600000</td>\n",
       "      <td>758.778000</td>\n",
       "      <td>1268.910000</td>\n",
       "      <td>9.000000</td>\n",
       "      <td>0.600000</td>\n",
       "      <td>...</td>\n",
       "      <td>2.400000</td>\n",
       "      <td>9.000000</td>\n",
       "      <td>0.600000</td>\n",
       "      <td>5.400000</td>\n",
       "      <td>5.200000</td>\n",
       "      <td>801.262000</td>\n",
       "      <td>5.800000</td>\n",
       "      <td>0.5</td>\n",
       "      <td>961.514400</td>\n",
       "      <td>1.000000</td>\n",
       "    </tr>\n",
       "  </tbody>\n",
       "</table>\n",
       "<p>8 rows × 26 columns</p>\n",
       "</div>"
      ],
      "text/plain": [
       "       Sector_score      PARA_A     Score_A      Risk_A       PARA_B  \\\n",
       "count    776.000000  776.000000  776.000000  776.000000   776.000000   \n",
       "mean      20.184536    2.450194    0.351289    1.351029    10.799988   \n",
       "std       24.319017    5.678870    0.174055    3.440447    50.083624   \n",
       "min        1.850000    0.000000    0.200000    0.000000     0.000000   \n",
       "25%        2.370000    0.210000    0.200000    0.042000     0.000000   \n",
       "50%        3.890000    0.875000    0.200000    0.175000     0.405000   \n",
       "75%       55.570000    2.480000    0.600000    1.488000     4.160000   \n",
       "max       59.850000   85.000000    0.600000   51.000000  1264.630000   \n",
       "\n",
       "          Score_B      Risk_B        TOTAL     numbers   Score_B.1  \\\n",
       "count  776.000000  776.000000   776.000000  776.000000  776.000000   \n",
       "mean     0.313144    6.334008    13.218481    5.067655    0.223711   \n",
       "std      0.169804   30.072845    51.312829    0.264449    0.080352   \n",
       "min      0.200000    0.000000     0.000000    5.000000    0.200000   \n",
       "25%      0.200000    0.000000     0.537500    5.000000    0.200000   \n",
       "50%      0.200000    0.081000     1.370000    5.000000    0.200000   \n",
       "75%      0.400000    1.840500     7.707500    5.000000    0.200000   \n",
       "max      0.600000  758.778000  1268.910000    9.000000    0.600000   \n",
       "\n",
       "          ...          RiSk_E     History        Prob      Risk_F       Score  \\\n",
       "count     ...      776.000000  776.000000  776.000000  776.000000  776.000000   \n",
       "mean      ...        0.519072    0.104381    0.216753    0.053608    2.702577   \n",
       "std       ...        0.290312    0.531031    0.067987    0.305835    0.858923   \n",
       "min       ...        0.400000    0.000000    0.200000    0.000000    2.000000   \n",
       "25%       ...        0.400000    0.000000    0.200000    0.000000    2.000000   \n",
       "50%       ...        0.400000    0.000000    0.200000    0.000000    2.400000   \n",
       "75%       ...        0.400000    0.000000    0.200000    0.000000    3.250000   \n",
       "max       ...        2.400000    9.000000    0.600000    5.400000    5.200000   \n",
       "\n",
       "       Inherent_Risk  CONTROL_RISK  Detection_Risk  Audit_Risk        Risk  \n",
       "count     776.000000    776.000000           776.0  776.000000  776.000000  \n",
       "mean       17.680612      0.572680             0.5    7.168158    0.393041  \n",
       "std        54.740244      0.444581             0.0   38.667494    0.488741  \n",
       "min         1.400000      0.400000             0.5    0.280000    0.000000  \n",
       "25%         1.583500      0.400000             0.5    0.316700    0.000000  \n",
       "50%         2.214000      0.400000             0.5    0.555600    0.000000  \n",
       "75%        10.663500      0.400000             0.5    3.249900    1.000000  \n",
       "max       801.262000      5.800000             0.5  961.514400    1.000000  \n",
       "\n",
       "[8 rows x 26 columns]"
      ]
     },
     "execution_count": 2,
     "metadata": {},
     "output_type": "execute_result"
    }
   ],
   "source": [
    "audit.describe()"
   ]
  },
  {
   "cell_type": "code",
   "execution_count": 3,
   "metadata": {},
   "outputs": [
    {
     "name": "stdout",
     "output_type": "stream",
     "text": [
      "Index(['Sector_score', 'LOCATION_ID', 'PARA_A', 'Score_A', 'Risk_A', 'PARA_B',\n",
      "       'Score_B', 'Risk_B', 'TOTAL', 'numbers', 'Score_B.1', 'Risk_C',\n",
      "       'Money_Value', 'Score_MV', 'Risk_D', 'District_Loss', 'PROB', 'RiSk_E',\n",
      "       'History', 'Prob', 'Risk_F', 'Score', 'Inherent_Risk', 'CONTROL_RISK',\n",
      "       'Detection_Risk', 'Audit_Risk', 'Risk'],\n",
      "      dtype='object')\n",
      "attributes = 26\n"
     ]
    }
   ],
   "source": [
    "print(audit.columns)\n",
    "print('attributes =', len(audit.columns) - 1)"
   ]
  },
  {
   "cell_type": "markdown",
   "metadata": {},
   "source": [
    "---\n",
    "\n",
    "Audit Data เป็นข้อมูลเพื่อการ Classification มี 2 คลาส (Risk = 0 หรือ 1) \n",
    "มีทั้งหมด 26 attributes จำนวน 777 instances \n",
    "\n",
    "ข้อมูลเป็นรูปแบบ จำนวนจริง มี missing value เผยแพร่ตั้งแต่ 2018-07-14 \n",
    "\n",
    "**นำรายละเอียดข้อมูลมากจาก** \n",
    "\n",
    "   UCI Machine Learning Repository [https://archive.ics.uci.edu/ml/datasets/Audit+Data]. Irvine, CA: University of California, School of Information and Computer Science.\n",
    "\n",
    "---"
   ]
  },
  {
   "cell_type": "markdown",
   "metadata": {},
   "source": [
    "# Pre processing"
   ]
  },
  {
   "cell_type": "markdown",
   "metadata": {},
   "source": [
    "### 1. วิเคราะห์ชนิดของข้อมูลและความสำคัญของแต่ละข้อมูล"
   ]
  },
  {
   "cell_type": "code",
   "execution_count": 4,
   "metadata": {},
   "outputs": [
    {
     "name": "stdout",
     "output_type": "stream",
     "text": [
      "<class 'pandas.core.frame.DataFrame'>\n",
      "RangeIndex: 776 entries, 0 to 775\n",
      "Data columns (total 27 columns):\n",
      "Sector_score      776 non-null float64\n",
      "LOCATION_ID       776 non-null object\n",
      "PARA_A            776 non-null float64\n",
      "Score_A           776 non-null float64\n",
      "Risk_A            776 non-null float64\n",
      "PARA_B            776 non-null float64\n",
      "Score_B           776 non-null float64\n",
      "Risk_B            776 non-null float64\n",
      "TOTAL             776 non-null float64\n",
      "numbers           776 non-null float64\n",
      "Score_B.1         776 non-null float64\n",
      "Risk_C            776 non-null float64\n",
      "Money_Value       775 non-null float64\n",
      "Score_MV          776 non-null float64\n",
      "Risk_D            776 non-null float64\n",
      "District_Loss     776 non-null int64\n",
      "PROB              776 non-null float64\n",
      "RiSk_E            776 non-null float64\n",
      "History           776 non-null int64\n",
      "Prob              776 non-null float64\n",
      "Risk_F            776 non-null float64\n",
      "Score             776 non-null float64\n",
      "Inherent_Risk     776 non-null float64\n",
      "CONTROL_RISK      776 non-null float64\n",
      "Detection_Risk    776 non-null float64\n",
      "Audit_Risk        776 non-null float64\n",
      "Risk              776 non-null int64\n",
      "dtypes: float64(23), int64(3), object(1)\n",
      "memory usage: 163.8+ KB\n"
     ]
    }
   ],
   "source": [
    "audit.info()"
   ]
  },
  {
   "cell_type": "code",
   "execution_count": 5,
   "metadata": {},
   "outputs": [
    {
     "data": {
      "text/html": [
       "<div>\n",
       "<style>\n",
       "    .dataframe thead tr:only-child th {\n",
       "        text-align: right;\n",
       "    }\n",
       "\n",
       "    .dataframe thead th {\n",
       "        text-align: left;\n",
       "    }\n",
       "\n",
       "    .dataframe tbody tr th {\n",
       "        vertical-align: top;\n",
       "    }\n",
       "</style>\n",
       "<table border=\"1\" class=\"dataframe\">\n",
       "  <thead>\n",
       "    <tr style=\"text-align: right;\">\n",
       "      <th></th>\n",
       "      <th>Sector_score</th>\n",
       "      <th>LOCATION_ID</th>\n",
       "      <th>PARA_A</th>\n",
       "      <th>Score_A</th>\n",
       "      <th>Risk_A</th>\n",
       "      <th>PARA_B</th>\n",
       "      <th>Score_B</th>\n",
       "      <th>Risk_B</th>\n",
       "      <th>TOTAL</th>\n",
       "      <th>numbers</th>\n",
       "      <th>...</th>\n",
       "      <th>RiSk_E</th>\n",
       "      <th>History</th>\n",
       "      <th>Prob</th>\n",
       "      <th>Risk_F</th>\n",
       "      <th>Score</th>\n",
       "      <th>Inherent_Risk</th>\n",
       "      <th>CONTROL_RISK</th>\n",
       "      <th>Detection_Risk</th>\n",
       "      <th>Audit_Risk</th>\n",
       "      <th>Risk</th>\n",
       "    </tr>\n",
       "  </thead>\n",
       "  <tbody>\n",
       "    <tr>\n",
       "      <th>0</th>\n",
       "      <td>3.89</td>\n",
       "      <td>23</td>\n",
       "      <td>4.18</td>\n",
       "      <td>0.6</td>\n",
       "      <td>2.508</td>\n",
       "      <td>2.50</td>\n",
       "      <td>0.2</td>\n",
       "      <td>0.500</td>\n",
       "      <td>6.68</td>\n",
       "      <td>5.0</td>\n",
       "      <td>...</td>\n",
       "      <td>0.4</td>\n",
       "      <td>0</td>\n",
       "      <td>0.2</td>\n",
       "      <td>0.0</td>\n",
       "      <td>2.4</td>\n",
       "      <td>8.574</td>\n",
       "      <td>0.4</td>\n",
       "      <td>0.5</td>\n",
       "      <td>1.7148</td>\n",
       "      <td>1</td>\n",
       "    </tr>\n",
       "    <tr>\n",
       "      <th>1</th>\n",
       "      <td>3.89</td>\n",
       "      <td>6</td>\n",
       "      <td>0.00</td>\n",
       "      <td>0.2</td>\n",
       "      <td>0.000</td>\n",
       "      <td>4.83</td>\n",
       "      <td>0.2</td>\n",
       "      <td>0.966</td>\n",
       "      <td>4.83</td>\n",
       "      <td>5.0</td>\n",
       "      <td>...</td>\n",
       "      <td>0.4</td>\n",
       "      <td>0</td>\n",
       "      <td>0.2</td>\n",
       "      <td>0.0</td>\n",
       "      <td>2.0</td>\n",
       "      <td>2.554</td>\n",
       "      <td>0.4</td>\n",
       "      <td>0.5</td>\n",
       "      <td>0.5108</td>\n",
       "      <td>0</td>\n",
       "    </tr>\n",
       "    <tr>\n",
       "      <th>2</th>\n",
       "      <td>3.89</td>\n",
       "      <td>6</td>\n",
       "      <td>0.51</td>\n",
       "      <td>0.2</td>\n",
       "      <td>0.102</td>\n",
       "      <td>0.23</td>\n",
       "      <td>0.2</td>\n",
       "      <td>0.046</td>\n",
       "      <td>0.74</td>\n",
       "      <td>5.0</td>\n",
       "      <td>...</td>\n",
       "      <td>0.4</td>\n",
       "      <td>0</td>\n",
       "      <td>0.2</td>\n",
       "      <td>0.0</td>\n",
       "      <td>2.0</td>\n",
       "      <td>1.548</td>\n",
       "      <td>0.4</td>\n",
       "      <td>0.5</td>\n",
       "      <td>0.3096</td>\n",
       "      <td>0</td>\n",
       "    </tr>\n",
       "    <tr>\n",
       "      <th>3</th>\n",
       "      <td>3.89</td>\n",
       "      <td>6</td>\n",
       "      <td>0.00</td>\n",
       "      <td>0.2</td>\n",
       "      <td>0.000</td>\n",
       "      <td>10.80</td>\n",
       "      <td>0.6</td>\n",
       "      <td>6.480</td>\n",
       "      <td>10.80</td>\n",
       "      <td>6.0</td>\n",
       "      <td>...</td>\n",
       "      <td>0.4</td>\n",
       "      <td>0</td>\n",
       "      <td>0.2</td>\n",
       "      <td>0.0</td>\n",
       "      <td>4.4</td>\n",
       "      <td>17.530</td>\n",
       "      <td>0.4</td>\n",
       "      <td>0.5</td>\n",
       "      <td>3.5060</td>\n",
       "      <td>1</td>\n",
       "    </tr>\n",
       "    <tr>\n",
       "      <th>4</th>\n",
       "      <td>3.89</td>\n",
       "      <td>6</td>\n",
       "      <td>0.00</td>\n",
       "      <td>0.2</td>\n",
       "      <td>0.000</td>\n",
       "      <td>0.08</td>\n",
       "      <td>0.2</td>\n",
       "      <td>0.016</td>\n",
       "      <td>0.08</td>\n",
       "      <td>5.0</td>\n",
       "      <td>...</td>\n",
       "      <td>0.4</td>\n",
       "      <td>0</td>\n",
       "      <td>0.2</td>\n",
       "      <td>0.0</td>\n",
       "      <td>2.0</td>\n",
       "      <td>1.416</td>\n",
       "      <td>0.4</td>\n",
       "      <td>0.5</td>\n",
       "      <td>0.2832</td>\n",
       "      <td>0</td>\n",
       "    </tr>\n",
       "  </tbody>\n",
       "</table>\n",
       "<p>5 rows × 27 columns</p>\n",
       "</div>"
      ],
      "text/plain": [
       "   Sector_score LOCATION_ID  PARA_A  Score_A  Risk_A  PARA_B  Score_B  Risk_B  \\\n",
       "0          3.89          23    4.18      0.6   2.508    2.50      0.2   0.500   \n",
       "1          3.89           6    0.00      0.2   0.000    4.83      0.2   0.966   \n",
       "2          3.89           6    0.51      0.2   0.102    0.23      0.2   0.046   \n",
       "3          3.89           6    0.00      0.2   0.000   10.80      0.6   6.480   \n",
       "4          3.89           6    0.00      0.2   0.000    0.08      0.2   0.016   \n",
       "\n",
       "   TOTAL  numbers  ...   RiSk_E  History  Prob  Risk_F  Score  Inherent_Risk  \\\n",
       "0   6.68      5.0  ...      0.4        0   0.2     0.0    2.4          8.574   \n",
       "1   4.83      5.0  ...      0.4        0   0.2     0.0    2.0          2.554   \n",
       "2   0.74      5.0  ...      0.4        0   0.2     0.0    2.0          1.548   \n",
       "3  10.80      6.0  ...      0.4        0   0.2     0.0    4.4         17.530   \n",
       "4   0.08      5.0  ...      0.4        0   0.2     0.0    2.0          1.416   \n",
       "\n",
       "   CONTROL_RISK  Detection_Risk  Audit_Risk  Risk  \n",
       "0           0.4             0.5      1.7148     1  \n",
       "1           0.4             0.5      0.5108     0  \n",
       "2           0.4             0.5      0.3096     0  \n",
       "3           0.4             0.5      3.5060     1  \n",
       "4           0.4             0.5      0.2832     0  \n",
       "\n",
       "[5 rows x 27 columns]"
      ]
     },
     "execution_count": 5,
     "metadata": {},
     "output_type": "execute_result"
    }
   ],
   "source": [
    "audit.head()"
   ]
  },
  {
   "cell_type": "markdown",
   "metadata": {},
   "source": [
    "---\n",
    "\n",
    "พบว่า ข้อมูลเกือบทุก attributes อยู่ในรูปแบบของ number หมดแล้ว\n",
    "\n",
    "เว้นแต่ `LOCATION_ID` เป็นข้อมูลชนิด object \n",
    "\n",
    "---"
   ]
  },
  {
   "cell_type": "code",
   "execution_count": 6,
   "metadata": {},
   "outputs": [
    {
     "data": {
      "text/plain": [
       "array(['23', '6', '7', '8', '13', '37', '24', '3', '4', '14', '5', '20',\n",
       "       '19', '21', '22', '9', '11', '12', '29', '30', '38', '31', '2',\n",
       "       '32', '16', '33', '15', '36', '34', '18', '25', '39', '27', '35',\n",
       "       '40', '41', '42', '1', '28', 'LOHARU', 'NUH', 'SAFIDON', '43', '44',\n",
       "       '17'], dtype=object)"
      ]
     },
     "execution_count": 6,
     "metadata": {},
     "output_type": "execute_result"
    }
   ],
   "source": [
    "audit['LOCATION_ID'].unique()"
   ]
  },
  {
   "cell_type": "markdown",
   "metadata": {},
   "source": [
    "---\n",
    "\n",
    "พบว่า LOCATION_ID เป็นข้อมูลชนิดที่มีความหลากหลายของชนิดมากเกินไป มีทั้งที่เป็น number และ string\n",
    "\n",
    "จึงคิดว่า ไม่จำเป็นต้องใช้ สามารถดรอปทิ้งได้เลย\n",
    "\n",
    "---"
   ]
  },
  {
   "cell_type": "code",
   "execution_count": 7,
   "metadata": {
    "collapsed": true
   },
   "outputs": [],
   "source": [
    "audit = audit.drop(['LOCATION_ID'], axis = 1)"
   ]
  },
  {
   "cell_type": "markdown",
   "metadata": {},
   "source": [
    "### 2. Check missing data "
   ]
  },
  {
   "cell_type": "code",
   "execution_count": 8,
   "metadata": {},
   "outputs": [
    {
     "name": "stdout",
     "output_type": "stream",
     "text": [
      "is missing value: True\n"
     ]
    }
   ],
   "source": [
    "print('is missing value:' , audit.isnull().values.any())"
   ]
  },
  {
   "cell_type": "markdown",
   "metadata": {},
   "source": [
    "พบว่า มี missing value อยู่\n",
    "\n",
    "ให้ fill missing value ด้วยค่า mean ของ column นั้นๆ "
   ]
  },
  {
   "cell_type": "code",
   "execution_count": 9,
   "metadata": {},
   "outputs": [
    {
     "name": "stdout",
     "output_type": "stream",
     "text": [
      "is missing value: False\n"
     ]
    }
   ],
   "source": [
    "audit = audit.fillna(audit.mean())\n",
    "\n",
    "print('is missing value:' , audit.isnull().values.any())"
   ]
  },
  {
   "cell_type": "markdown",
   "metadata": {},
   "source": [
    "## การทดลอง"
   ]
  },
  {
   "cell_type": "markdown",
   "metadata": {},
   "source": [
    "### แบ่ง X และ Y เพื่อทำการ predicting\n",
    "\n",
    "1. ให้ X คือ attributes ต่างๆ ที่ทำให้ได้ผลลัพธ์ Risk (0/1)\n",
    "2. ให้ Y คือ attribute ผลลัพธ์ Risk "
   ]
  },
  {
   "cell_type": "markdown",
   "metadata": {},
   "source": [
    "### transforming data\n",
    "\n",
    "เนื่องจาก Y จะเป็นผลลัพธ์ Risk ซึ่งมี 2 class คือ 0 และ 1 \n",
    "\n",
    "จะทำการ label one-hot encoding เพื่อให้ output layer มี 2 node\n",
    "เช่น ข้อมูลจาก \n",
    "\n",
    "|Attribute|Risk|\n",
    "|---------|----|\n",
    "|00000    | 0  |\n",
    "|12345    | 1  |\n",
    "\n",
    "หลังการ transform จะเป็น\n",
    "\n",
    "|Attribute|Risk=0|Risk=1|\n",
    "|---------|------|------|\n",
    "|00000    |1     |0     |\n",
    "|12345    |0     |1     |\n"
   ]
  },
  {
   "cell_type": "code",
   "execution_count": 10,
   "metadata": {},
   "outputs": [
    {
     "name": "stdout",
     "output_type": "stream",
     "text": [
      "   Sector_score  PARA_A  Score_A  Risk_A  PARA_B  Score_B  Risk_B  TOTAL  \\\n",
      "0          3.89    4.18      0.6   2.508    2.50      0.2   0.500   6.68   \n",
      "1          3.89    0.00      0.2   0.000    4.83      0.2   0.966   4.83   \n",
      "2          3.89    0.51      0.2   0.102    0.23      0.2   0.046   0.74   \n",
      "3          3.89    0.00      0.2   0.000   10.80      0.6   6.480  10.80   \n",
      "4          3.89    0.00      0.2   0.000    0.08      0.2   0.016   0.08   \n",
      "\n",
      "   numbers  Score_B.1     ...      PROB  RiSk_E  History  Prob  Risk_F  Score  \\\n",
      "0      5.0        0.2     ...       0.2     0.4        0   0.2     0.0    2.4   \n",
      "1      5.0        0.2     ...       0.2     0.4        0   0.2     0.0    2.0   \n",
      "2      5.0        0.2     ...       0.2     0.4        0   0.2     0.0    2.0   \n",
      "3      6.0        0.6     ...       0.2     0.4        0   0.2     0.0    4.4   \n",
      "4      5.0        0.2     ...       0.2     0.4        0   0.2     0.0    2.0   \n",
      "\n",
      "   Inherent_Risk  CONTROL_RISK  Detection_Risk  Audit_Risk  \n",
      "0          8.574           0.4             0.5      1.7148  \n",
      "1          2.554           0.4             0.5      0.5108  \n",
      "2          1.548           0.4             0.5      0.3096  \n",
      "3         17.530           0.4             0.5      3.5060  \n",
      "4          1.416           0.4             0.5      0.2832  \n",
      "\n",
      "[5 rows x 25 columns]\n",
      "--------\n",
      "   0  1\n",
      "0  0  1\n",
      "1  1  0\n",
      "2  1  0\n",
      "3  0  1\n",
      "4  1  0\n"
     ]
    }
   ],
   "source": [
    "X = audit.drop(['Risk'], axis = 1)\n",
    "Y = pd.get_dummies(audit['Risk'])\n",
    "\n",
    "print(X.head())\n",
    "print('--------')\n",
    "print(Y.head())"
   ]
  },
  {
   "cell_type": "markdown",
   "metadata": {},
   "source": [
    "## Neural Network\n",
    "\n",
    "### สร้าง ฟังก์ชั่นต่างๆ ที่จะใช้งาน"
   ]
  },
  {
   "cell_type": "code",
   "execution_count": 11,
   "metadata": {},
   "outputs": [
    {
     "name": "stdout",
     "output_type": "stream",
     "text": [
      "ตัวอย่าง graph sigmoid \n"
     ]
    },
    {
     "data": {
      "text/plain": [
       "[<matplotlib.lines.Line2D at 0x1760b9769b0>]"
      ]
     },
     "execution_count": 11,
     "metadata": {},
     "output_type": "execute_result"
    },
    {
     "data": {
      "image/png": "[encoded data removed]",
      "text/plain": [
       "<matplotlib.figure.Figure at 0x1760b622198>"
      ]
     },
     "metadata": {},
     "output_type": "display_data"
    }
   ],
   "source": [
    "# sigmoid function\n",
    "def sigmoid(s):\n",
    "    return 1/(1 + np.exp(-s))\n",
    "\n",
    "# sigmoid derivative function\n",
    "def sigmoid_derv(s):\n",
    "    return s * (1 - s)\n",
    "\n",
    "# cross_entropy function \n",
    "def cross_entropy(pred, real):\n",
    "    n_samples = real.shape[0]\n",
    "    res = pred - real\n",
    "    return res/n_samples\n",
    "\n",
    "# loss function\n",
    "def error(pred, real):\n",
    "    n_samples = real.shape[0]\n",
    "    logp = - np.log(pred[np.arange(n_samples), real.argmax(axis=1)])\n",
    "    loss = np.sum(logp)/n_samples\n",
    "    return loss\n",
    "\n",
    "input = np.linspace(-10, 10, 100)\n",
    "\n",
    "print('ตัวอย่าง graph sigmoid ')\n",
    "plt.plot(input, sigmoid(input))"
   ]
  },
  {
   "cell_type": "markdown",
   "metadata": {},
   "source": [
    "### สร้าง Neural Network\n",
    "\n",
    "ในการสร้าง NN นั้น จะการกำหนด\n",
    "- input layer = X attributes\n",
    "- hidden layer\n",
    "- output layer = Y attributes\n",
    "- จำนวน node ในแต่ละ layer = จำนวน attribute\n",
    "- learning rate\n",
    "- activation function(optional) = ในที่นี้ใช้ sigmoid function\n",
    "- weight และ bias แต่ละ node\n",
    "\n",
    "#### 1. Neural Network with 1 hidden layer"
   ]
  },
  {
   "cell_type": "code",
   "execution_count": 12,
   "metadata": {
    "collapsed": true
   },
   "outputs": [],
   "source": [
    "class NeuralNetwork:\n",
    "    def __init__(self, x, y, lr=0.5, neurons=32):\n",
    "        self.x = x\n",
    "        self.neurons = neurons\n",
    "        self.lr = lr\n",
    "        ip_dim = x.shape[1]\n",
    "        op_dim = y.shape[1]\n",
    "\n",
    "        self.w1 = np.random.randn(ip_dim, neurons)\n",
    "        self.b1 = np.zeros((1, neurons))\n",
    "        self.w2 = np.random.randn(neurons, neurons)\n",
    "        self.b2 = np.zeros((1, neurons))\n",
    "        self.w3 = np.random.randn(neurons, op_dim)\n",
    "        self.b3 = np.zeros((1, op_dim))\n",
    "        self.y = y\n",
    "\n",
    "    def feedforward(self):\n",
    "        z1 = np.dot(self.x, self.w1) + self.b1\n",
    "        self.a1 = sigmoid(z1)\n",
    "        z2 = np.dot(self.a1, self.w2) + self.b2\n",
    "        self.a2 = sigmoid(z2)\n",
    "        z3 = np.dot(self.a2, self.w3) + self.b3\n",
    "        self.a3 = sigmoid(z3)\n",
    "        \n",
    "    def backprop(self, epoch):\n",
    "        loss = error(self.a3, self.y)\n",
    "#         uncomment to see loss updated\n",
    "#         if epoch % 100 == 0:\n",
    "#             print('Epoch', epoch, '/', epochs, ' Error :', loss)\n",
    "        a3_delta = cross_entropy(self.a3, self.y) # w3\n",
    "        z2_delta = np.dot(a3_delta, self.w3.T)\n",
    "        a2_delta = z2_delta * sigmoid_derv(self.a2) # w2\n",
    "        z1_delta = np.dot(a2_delta, self.w2.T)\n",
    "        a1_delta = z1_delta * sigmoid_derv(self.a1) # w1\n",
    "\n",
    "        self.w3 -= self.lr * np.dot(self.a2.T, a3_delta)\n",
    "        self.b3 -= self.lr * np.sum(a3_delta, axis=0, keepdims=True)\n",
    "        self.w2 -= self.lr * np.dot(self.a1.T, a2_delta)\n",
    "        self.b2 -= self.lr * np.sum(a2_delta, axis=0)\n",
    "        self.w1 -= self.lr * np.dot(self.x.T, a1_delta)\n",
    "        self.b1 -= self.lr * np.sum(a1_delta, axis=0)\n",
    "\n",
    "    def predict(self, data):\n",
    "        self.x = data\n",
    "        self.feedforward()\n",
    "        return self.a3.argmax()"
   ]
  },
  {
   "cell_type": "markdown",
   "metadata": {},
   "source": [
    "#### 2. Neural Network with 2 hidden layers\n",
    "\n",
    "คล้ายๆ กับข้างบน แต่ทำกาเพิ่ม hidden layer ขึ้นมาอีก 1 layer"
   ]
  },
  {
   "cell_type": "code",
   "execution_count": 13,
   "metadata": {
    "collapsed": true
   },
   "outputs": [],
   "source": [
    "class NeuralNetwork2HiddenLayers:\n",
    "    def __init__(self, x, y, lr=0.5, neurons=32):\n",
    "        self.x = x\n",
    "        self.neurons = neurons\n",
    "        self.lr = lr\n",
    "        ip_dim = x.shape[1]\n",
    "        op_dim = y.shape[1]\n",
    "\n",
    "        self.w1 = np.random.randn(ip_dim, neurons)\n",
    "        self.b1 = np.zeros((1, neurons))\n",
    "        self.w2 = np.random.randn(neurons, neurons)\n",
    "        self.b2 = np.zeros((1, neurons))\n",
    "        self.w3 = np.random.randn(neurons, neurons)\n",
    "        self.b3 = np.zeros((1, neurons))\n",
    "        self.w4 = np.random.randn(neurons, op_dim)\n",
    "        self.b4 = np.zeros((1, op_dim))\n",
    "        self.y = y\n",
    "\n",
    "    def feedforward(self):\n",
    "        z1 = np.dot(self.x, self.w1) + self.b1\n",
    "        self.a1 = sigmoid(z1)\n",
    "        z2 = np.dot(self.a1, self.w2) + self.b2\n",
    "        self.a2 = sigmoid(z2)\n",
    "        z3 = np.dot(self.a2, self.w3) + self.b3\n",
    "        self.a3 = sigmoid(z3)\n",
    "        z4 = np.dot(self.a3, self.w4) + self.b4\n",
    "        self.a4 = sigmoid(z4)\n",
    "        \n",
    "    def backprop(self, epoch):\n",
    "        loss = error(self.a4, self.y)\n",
    "#         uncommented to see updated loss\n",
    "#         if epoch % 100 == 0:\n",
    "#             print('Epoch', epoch, '/', epochs, ' Error :', loss)\n",
    "        a4_delta = cross_entropy(self.a4, self.y) # w4\n",
    "        z3_delta = np.dot(a4_delta, self.w4.T)\n",
    "        a3_delta = z3_delta * sigmoid_derv(self.a3) # w3\n",
    "        z2_delta = np.dot(a3_delta, self.w3.T)\n",
    "        a2_delta = z2_delta * sigmoid_derv(self.a2) # w2\n",
    "        z1_delta = np.dot(a2_delta, self.w2.T)\n",
    "        a1_delta = z1_delta * sigmoid_derv(self.a1) # w1\n",
    "\n",
    "        self.w4 -= self.lr * np.dot(self.a3.T, a4_delta)\n",
    "        self.b4 -= self.lr * np.sum(a4_delta, axis=0, keepdims=True)\n",
    "        self.w3 -= self.lr * np.dot(self.a2.T, a3_delta)\n",
    "        self.b3 -= self.lr * np.sum(a3_delta, axis=0)\n",
    "        self.w2 -= self.lr * np.dot(self.a1.T, a2_delta)\n",
    "        self.b2 -= self.lr * np.sum(a2_delta, axis=0)\n",
    "        self.w1 -= self.lr * np.dot(self.x.T, a1_delta)\n",
    "        self.b1 -= self.lr * np.sum(a1_delta, axis=0)\n",
    "\n",
    "    def predict(self, data):\n",
    "        self.x = data\n",
    "        self.feedforward()\n",
    "        return self.a4.argmax()"
   ]
  },
  {
   "cell_type": "markdown",
   "metadata": {},
   "source": [
    "### fitting NN model \n",
    "\n",
    "โดยการกำหนดค่าเหล่านี้ให้แตกต่างกันเพื่อหา model ที่ดีที่สุด\n",
    "\n",
    "- no. hidden level\n",
    "- learning rate\n",
    "- no. of hidden layer node\n",
    "- epoch"
   ]
  },
  {
   "cell_type": "code",
   "execution_count": 14,
   "metadata": {
    "collapsed": true
   },
   "outputs": [],
   "source": [
    "def NN (inputs,hidden_level,outputs,lr,nr):\n",
    "    if(hidden_level == 1):\n",
    "        return NeuralNetwork(inputs,outputs,lr,nr)\n",
    "    else:\n",
    "        return NeuralNetwork2HiddenLayers(inputs,outputs,lr,nr)"
   ]
  },
  {
   "cell_type": "code",
   "execution_count": 15,
   "metadata": {
    "collapsed": true
   },
   "outputs": [],
   "source": [
    "def training_model(model, epochs):\n",
    "    for x in range(0, epochs + 1):\n",
    "        model.feedforward()\n",
    "        model.backprop(x)\n",
    "    return model\n",
    "\n",
    "def get_model_accuracy(model, x, y):\n",
    "    acc = 0\n",
    "    for xx,yy in zip(x, y):\n",
    "        s = model.predict(xx)\n",
    "        if s == np.argmax(yy):\n",
    "            acc +=1\n",
    "    return acc/len(x)*100"
   ]
  },
  {
   "cell_type": "code",
   "execution_count": 16,
   "metadata": {
    "collapsed": true
   },
   "outputs": [],
   "source": [
    "epochs = [100,500,1000]\n",
    "\n",
    "lrs = [0.01,0.1,0.5]\n",
    "\n",
    "neurons = [1,2,16]\n",
    "\n",
    "hidden_levels = [1,2]\n",
    "\n",
    "default_epochs = 500\n",
    "default_lr = 0.5\n",
    "default_neurons = 16\n",
    "default_level = 1"
   ]
  },
  {
   "cell_type": "markdown",
   "metadata": {},
   "source": [
    "#### 10 fold cross validation"
   ]
  },
  {
   "cell_type": "code",
   "execution_count": 17,
   "metadata": {
    "collapsed": true
   },
   "outputs": [],
   "source": [
    "# 10 fold cross validation\n",
    "kf = KFold(n_splits=10, shuffle=True, random_state=4)"
   ]
  },
  {
   "cell_type": "code",
   "execution_count": 18,
   "metadata": {
    "collapsed": true
   },
   "outputs": [],
   "source": [
    "scaler = 3.0\n",
    "\n",
    "def K_FoldCV(X, hidden_level, lr, neurons, epoch):\n",
    "    fold = 1\n",
    "    scores = []\n",
    "    for train_index, test_index in kf.split(audit):\n",
    "        print('Fold:', fold, end=' ')\n",
    "        X_train, X_test = X.iloc[train_index].values, X.iloc[test_index].values\n",
    "        y_train, y_test = Y.iloc[train_index], Y.iloc[test_index]\n",
    "\n",
    "    #   create Neural Network with 1 or 2 level hidden layer, learning rate and each level hidden node size\n",
    "        model = NN(inputs = X_train/scaler, outputs= np.array(y_train), hidden_level=hidden_level, lr=lr, nr=neurons)\n",
    "\n",
    "    #   training model\n",
    "        model = training_model(model, epoch)\n",
    "\n",
    "        train_acc = get_model_accuracy(model, X_train, np.array(y_train))\n",
    "        test_acc = get_model_accuracy(model, X_test, np.array(y_test))\n",
    "\n",
    "#         print(\"Training accuracy :\", train_acc)\n",
    "#         print(\"Test accuracy :\", test_acc)\n",
    "    \n",
    "        scores.append(test_acc)\n",
    "        fold += 1\n",
    "        \n",
    "#         R2 score\n",
    "        r2 = np.mean(scores)\n",
    "        print('R2 Score: ', r2)\n",
    "    \n",
    "    print('Overall R2 Score:', r2)\n",
    "    print('\\n')\n",
    "    \n",
    "    return r2\n",
    "\n",
    "   "
   ]
  },
  {
   "cell_type": "markdown",
   "metadata": {},
   "source": [
    "## การทดลอง\n",
    "\n",
    "### 1 การทดลองเพื่อทดสอบผลความถูกต้องจาก การจำแนก โดยการ preprocess ที่ต่างกัน\n",
    "\n",
    "- model0 = input data ที่มี attribute เดียว\n",
    "- model1 = input data ที่ทำการ drop ข้อมูลจำพวกการสรุปต่างๆ \n",
    "- model2 = input data ที่รวมการสรุปข้อมูลต่างๆ ไว้\n",
    "\n",
    "**fixed parameter** \n",
    "- hidden level = 1\n",
    "- learning rate = 0.5\n",
    "- no. node = 16\n",
    "- epoch = 500"
   ]
  },
  {
   "cell_type": "code",
   "execution_count": 19,
   "metadata": {},
   "outputs": [
    {
     "name": "stdout",
     "output_type": "stream",
     "text": [
      "NN with input X0\n",
      "Fold: 1 R2 Score:  62.8205128205\n",
      "Fold: 2 R2 Score:  62.1794871795\n",
      "Fold: 3 R2 Score:  59.8290598291\n",
      "Fold: 4 R2 Score:  58.6538461538\n",
      "Fold: 5 R2 Score:  61.2820512821\n",
      "Fold: 6 R2 Score:  61.7521367521\n",
      "Fold: 7 R2 Score:  60.7226107226\n",
      "Fold: 8 R2 Score:  62.2231934732\n",
      "Fold: 9 R2 Score:  62.9574129574\n",
      "Fold: 10 R2 Score:  62.5058275058\n",
      "Overall R2 Score: 62.5058275058\n",
      "\n",
      "\n",
      "NN with input X1\n",
      "Fold: 1 "
     ]
    },
    {
     "name": "stderr",
     "output_type": "stream",
     "text": [
      "C:\\Users\\Tusave\\Anaconda3\\lib\\site-packages\\ipykernel_launcher.py:3: RuntimeWarning: overflow encountered in exp\n",
      "  This is separate from the ipykernel package so we can avoid doing imports until\n"
     ]
    },
    {
     "name": "stdout",
     "output_type": "stream",
     "text": [
      "R2 Score:  93.5897435897\n",
      "Fold: 2 R2 Score:  94.2307692308\n",
      "Fold: 3 R2 Score:  94.4444444444\n",
      "Fold: 4 R2 Score:  93.9102564103\n",
      "Fold: 5 R2 Score:  93.0769230769\n",
      "Fold: 6 R2 Score:  92.3076923077\n",
      "Fold: 7 R2 Score:  92.1078921079\n",
      "Fold: 8 R2 Score:  92.7697302697\n",
      "Fold: 9 R2 Score:  92.562992563\n",
      "Fold: 10 R2 Score:  92.007992008\n",
      "Overall R2 Score: 92.007992008\n",
      "\n",
      "\n",
      "NN with input X2\n",
      "Fold: 1 R2 Score:  94.8717948718\n",
      "Fold: 2 R2 Score:  97.4358974359\n",
      "Fold: 3 R2 Score:  98.2905982906\n",
      "Fold: 4 R2 Score:  98.0769230769\n",
      "Fold: 5 R2 Score:  97.9487179487\n",
      "Fold: 6 R2 Score:  97.6495726496\n",
      "Fold: 7 R2 Score:  97.0577042006\n",
      "Fold: 8 R2 Score:  97.1008158508\n",
      "Fold: 9 R2 Score:  96.8457468457\n",
      "Fold: 10 R2 Score:  96.5118215118\n",
      "Overall R2 Score: 96.5118215118\n",
      "\n",
      "\n"
     ]
    }
   ],
   "source": [
    "X0 = pd.DataFrame(audit['Sector_score'])\n",
    "\n",
    "X1 = audit.drop(['TOTAL', 'Prob', 'Risk_A', 'Risk_B', 'Risk_C', 'Risk_D', 'RiSk_E', 'Risk_F',\n",
    "                 'Score', 'Inherent_Risk', 'CONTROL_RISK', 'District_Loss', 'PROB',\n",
    "       'Detection_Risk', 'Audit_Risk', 'Risk'], axis = 1)\n",
    "\n",
    "X2 = audit.drop(['Risk'], axis = 1)\n",
    "\n",
    "\n",
    "print('NN with input X0')\n",
    "model0 = K_FoldCV(X0, default_level, default_lr, default_neurons, default_epochs)\n",
    "\n",
    "print('NN with input X1')\n",
    "model1 = K_FoldCV(X1, default_level, default_lr, default_neurons, default_epochs)\n",
    "\n",
    "print('NN with input X2')\n",
    "model2 = K_FoldCV(X2, default_level, default_lr, default_neurons, default_epochs)"
   ]
  },
  {
   "cell_type": "markdown",
   "metadata": {},
   "source": [
    "### 2 การทดลองเพื่อทดสอบโครงสร้าง NN ที่เหมาะสม\n",
    "\n",
    "- model1 = NN with 1 hidden layer\n",
    "- model2 = NN with 2 hidden layers\n",
    "\n",
    "**fixed parameter** \n",
    "- learning rate = 0.5\n",
    "- no. node = 16\n",
    "- epoch = 500"
   ]
  },
  {
   "cell_type": "code",
   "execution_count": 20,
   "metadata": {},
   "outputs": [
    {
     "name": "stdout",
     "output_type": "stream",
     "text": [
      "NN with 1 hidden layer\n",
      "Fold: 1 "
     ]
    },
    {
     "name": "stderr",
     "output_type": "stream",
     "text": [
      "C:\\Users\\Tusave\\Anaconda3\\lib\\site-packages\\ipykernel_launcher.py:3: RuntimeWarning: overflow encountered in exp\n",
      "  This is separate from the ipykernel package so we can avoid doing imports until\n"
     ]
    },
    {
     "name": "stdout",
     "output_type": "stream",
     "text": [
      "R2 Score:  94.8717948718\n",
      "Fold: 2 R2 Score:  96.1538461538\n",
      "Fold: 3 R2 Score:  95.7264957265\n",
      "Fold: 4 R2 Score:  95.5128205128\n",
      "Fold: 5 R2 Score:  96.4102564103\n",
      "Fold: 6 R2 Score:  97.0085470085\n",
      "Fold: 7 R2 Score:  96.879311165\n",
      "Fold: 8 R2 Score:  97.1070596071\n",
      "Fold: 9 R2 Score:  97.1398971399\n",
      "Fold: 10 R2 Score:  97.1661671662\n",
      "Overall R2 Score: 97.1661671662\n",
      "\n",
      "\n",
      "NN with 2 hidden layers\n",
      "Fold: 1 R2 Score:  97.4358974359\n",
      "Fold: 2 R2 Score:  96.7948717949\n",
      "Fold: 3 R2 Score:  95.2991452991\n",
      "Fold: 4 R2 Score:  95.1923076923\n",
      "Fold: 5 R2 Score:  95.641025641\n",
      "Fold: 6 R2 Score:  95.5128205128\n",
      "Fold: 7 R2 Score:  95.411731126\n",
      "Fold: 8 R2 Score:  95.8229270729\n",
      "Fold: 9 R2 Score:  95.8541458541\n",
      "Fold: 10 R2 Score:  96.008991009\n",
      "Overall R2 Score: 96.008991009\n",
      "\n",
      "\n"
     ]
    }
   ],
   "source": [
    "print('NN with 1 hidden layer')\n",
    "model1 = K_FoldCV(X, 1, default_lr, default_neurons, default_epochs)\n",
    "\n",
    "print('NN with 2 hidden layers')\n",
    "model2 = K_FoldCV(X, 2, default_lr, default_neurons, default_epochs)"
   ]
  },
  {
   "cell_type": "markdown",
   "metadata": {},
   "source": [
    "### 3 การทดลองเพื่อทดสอบ จำนวน node ที่เหมาะสม\n",
    "\n",
    "model = NN with different no. of hidden layer node\n",
    "\n",
    "nodes = [1,2,16]\n",
    "\n",
    "**fixed parameter** \n",
    "- hidden level = 1\n",
    "- learning rate = 0.5\n",
    "- epoch = 500"
   ]
  },
  {
   "cell_type": "code",
   "execution_count": 21,
   "metadata": {},
   "outputs": [
    {
     "name": "stdout",
     "output_type": "stream",
     "text": [
      "NN 1 hidden nodes\n",
      "Fold: 1 R2 Score: "
     ]
    },
    {
     "name": "stderr",
     "output_type": "stream",
     "text": [
      "C:\\Users\\Tusave\\Anaconda3\\lib\\site-packages\\ipykernel_launcher.py:3: RuntimeWarning: overflow encountered in exp\n",
      "  This is separate from the ipykernel package so we can avoid doing imports until\n"
     ]
    },
    {
     "name": "stdout",
     "output_type": "stream",
     "text": [
      " 94.8717948718\n",
      "Fold: 2 R2 Score:  94.8717948718\n",
      "Fold: 3 R2 Score:  94.8717948718\n",
      "Fold: 4 R2 Score:  93.9102564103\n",
      "Fold: 5 R2 Score:  94.6153846154\n",
      "Fold: 6 R2 Score:  93.5897435897\n",
      "Fold: 7 R2 Score:  89.3106893107\n",
      "Fold: 8 R2 Score:  90.1598401598\n",
      "Fold: 9 R2 Score:  89.9544899545\n",
      "Fold: 10 R2 Score:  90.6993006993\n",
      "Overall R2 Score: 90.6993006993\n",
      "\n",
      "\n",
      "NN 2 hidden nodes\n",
      "Fold: 1 R2 Score:  94.8717948718\n",
      "Fold: 2 R2 Score:  94.8717948718\n",
      "Fold: 3 R2 Score:  95.2991452991\n",
      "Fold: 4 R2 Score:  95.1923076923\n",
      "Fold: 5 R2 Score:  94.1025641026\n",
      "Fold: 6 R2 Score:  94.6581196581\n",
      "Fold: 7 R2 Score:  94.4936016365\n",
      "Fold: 8 R2 Score:  94.6948884449\n",
      "Fold: 9 R2 Score:  94.7071447071\n",
      "Fold: 10 R2 Score:  94.9766899767\n",
      "Overall R2 Score: 94.9766899767\n",
      "\n",
      "\n",
      "NN 16 hidden nodes\n",
      "Fold: 1 R2 Score:  93.5897435897\n",
      "Fold: 2 R2 Score:  94.8717948718\n",
      "Fold: 3 R2 Score:  94.8717948718\n",
      "Fold: 4 R2 Score:  94.8717948718\n",
      "Fold: 5 R2 Score:  95.641025641\n",
      "Fold: 6 R2 Score:  96.1538461538\n",
      "Fold: 7 R2 Score:  96.1467104324\n",
      "Fold: 8 R2 Score:  96.1413586414\n",
      "Fold: 9 R2 Score:  96.4257964258\n",
      "Fold: 10 R2 Score:  96.2637362637\n",
      "Overall R2 Score: 96.2637362637\n",
      "\n",
      "\n"
     ]
    }
   ],
   "source": [
    "print('NN 1 hidden nodes')\n",
    "model1 = K_FoldCV(X, default_level, default_lr, 1, default_epochs)\n",
    "\n",
    "print('NN 2 hidden nodes')\n",
    "model1 = K_FoldCV(X, default_level, default_lr, 2, default_epochs)\n",
    "\n",
    "print('NN 16 hidden nodes')\n",
    "model2 = K_FoldCV(X, default_level, default_lr, 16, default_epochs)"
   ]
  },
  {
   "cell_type": "markdown",
   "metadata": {},
   "source": [
    "### 4 ความสัมพันธ์ระหว่างการกำหนดค่า learning rate และ จำนวน epoch\n",
    "\n",
    "model = NN with different learning rate and epoch\n",
    "\n",
    "no. epoch = [100,500,1000]\n",
    "\n",
    "learning rate = [0.01,0.1,0.5]\n",
    "\n",
    "**fixed parameter** \n",
    "- hidden level = 1\n",
    "- no. node = 16"
   ]
  },
  {
   "cell_type": "code",
   "execution_count": 22,
   "metadata": {},
   "outputs": [
    {
     "name": "stdout",
     "output_type": "stream",
     "text": [
      "NN epoch = 100, lr = 0.01\n",
      "Fold: 1 R2 Score:  71.7948717949\n",
      "Fold: 2 "
     ]
    },
    {
     "name": "stderr",
     "output_type": "stream",
     "text": [
      "C:\\Users\\Tusave\\Anaconda3\\lib\\site-packages\\ipykernel_launcher.py:3: RuntimeWarning: overflow encountered in exp\n",
      "  This is separate from the ipykernel package so we can avoid doing imports until\n"
     ]
    },
    {
     "name": "stdout",
     "output_type": "stream",
     "text": [
      "R2 Score:  68.5897435897\n",
      "Fold: 3 R2 Score:  58.1196581197\n",
      "Fold: 4 R2 Score:  63.4615384615\n",
      "Fold: 5 R2 Score:  56.9230769231\n",
      "Fold: 6 R2 Score:  59.188034188\n",
      "Fold: 7 R2 Score:  59.8235098235\n",
      "Fold: 8 R2 Score:  64.0338827839\n",
      "Fold: 9 R2 Score:  67.1643171643\n",
      "Fold: 10 R2 Score:  66.4219114219\n",
      "Overall R2 Score: 66.4219114219\n",
      "\n",
      "\n",
      "NN epoch = 100, lr = 0.1\n",
      "Fold: 1 R2 Score:  93.5897435897\n",
      "Fold: 2 R2 Score:  92.3076923077\n",
      "Fold: 3 R2 Score:  92.735042735\n",
      "Fold: 4 R2 Score:  90.3846153846\n",
      "Fold: 5 R2 Score:  90.0\n",
      "Fold: 6 R2 Score:  89.1025641026\n",
      "Fold: 7 R2 Score:  88.9895818467\n",
      "Fold: 8 R2 Score:  90.2035464535\n",
      "Fold: 9 R2 Score:  89.9933399933\n",
      "Fold: 10 R2 Score:  90.0849150849\n",
      "Overall R2 Score: 90.0849150849\n",
      "\n",
      "\n",
      "NN epoch = 100, lr = 0.5\n",
      "Fold: 1 R2 Score:  96.1538461538\n",
      "Fold: 2 R2 Score:  98.0769230769\n",
      "Fold: 3 R2 Score:  97.4358974359\n",
      "Fold: 4 R2 Score:  96.7948717949\n",
      "Fold: 5 R2 Score:  96.9230769231\n",
      "Fold: 6 R2 Score:  96.1538461538\n",
      "Fold: 7 R2 Score:  96.1467104324\n",
      "Fold: 8 R2 Score:  96.466033966\n",
      "Fold: 9 R2 Score:  95.9928959929\n",
      "Fold: 10 R2 Score:  96.1338661339\n",
      "Overall R2 Score: 96.1338661339\n",
      "\n",
      "\n",
      "NN epoch = 500, lr = 0.01\n",
      "Fold: 1 R2 Score:  96.1538461538\n",
      "Fold: 2 R2 Score:  92.9487179487\n",
      "Fold: 3 R2 Score:  94.0170940171\n",
      "Fold: 4 R2 Score:  93.2692307692\n",
      "Fold: 5 R2 Score:  92.3076923077\n",
      "Fold: 6 R2 Score:  89.7435897436\n",
      "Fold: 7 R2 Score:  89.1679748823\n",
      "Fold: 8 R2 Score:  89.547952048\n",
      "Fold: 9 R2 Score:  89.2662892663\n",
      "Fold: 10 R2 Score:  88.3916083916\n",
      "Overall R2 Score: 88.3916083916\n",
      "\n",
      "\n",
      "NN epoch = 500, lr = 0.1\n",
      "Fold: 1 R2 Score:  97.4358974359\n",
      "Fold: 2 R2 Score:  96.1538461538\n",
      "Fold: 3 R2 Score:  97.0085470085\n",
      "Fold: 4 R2 Score:  97.4358974359\n",
      "Fold: 5 R2 Score:  95.641025641\n",
      "Fold: 6 R2 Score:  95.0854700855\n",
      "Fold: 7 R2 Score:  95.4164882736\n",
      "Fold: 8 R2 Score:  95.5024142524\n",
      "Fold: 9 R2 Score:  95.2806452806\n",
      "Fold: 10 R2 Score:  95.4928404928\n",
      "Overall R2 Score: 95.4928404928\n",
      "\n",
      "\n",
      "NN epoch = 500, lr = 0.5\n",
      "Fold: 1 R2 Score:  94.8717948718\n",
      "Fold: 2 R2 Score:  94.2307692308\n",
      "Fold: 3 R2 Score:  95.2991452991\n",
      "Fold: 4 R2 Score:  95.8333333333\n",
      "Fold: 5 R2 Score:  96.1538461538\n",
      "Fold: 6 R2 Score:  95.2991452991\n",
      "Fold: 7 R2 Score:  95.2285809429\n",
      "Fold: 8 R2 Score:  95.0133200133\n",
      "Fold: 9 R2 Score:  95.5673955674\n",
      "Fold: 10 R2 Score:  95.7509157509\n",
      "Overall R2 Score: 95.7509157509\n",
      "\n",
      "\n",
      "NN epoch = 1000, lr = 0.01\n",
      "Fold: 1 R2 Score:  93.5897435897\n",
      "Fold: 2 R2 Score:  93.5897435897\n",
      "Fold: 3 R2 Score:  93.5897435897\n",
      "Fold: 4 R2 Score:  92.9487179487\n",
      "Fold: 5 R2 Score:  92.0512820513\n",
      "Fold: 6 R2 Score:  90.5982905983\n",
      "Fold: 7 R2 Score:  90.4571618857\n",
      "Fold: 8 R2 Score:  90.8383283383\n",
      "Fold: 9 R2 Score:  90.4132904133\n",
      "Fold: 10 R2 Score:  89.9433899434\n",
      "Overall R2 Score: 89.9433899434\n",
      "\n",
      "\n",
      "NN epoch = 1000, lr = 0.1\n",
      "Fold: 1 R2 Score:  96.1538461538\n",
      "Fold: 2 R2 Score:  97.4358974359\n",
      "Fold: 3 R2 Score:  97.4358974359\n",
      "Fold: 4 R2 Score:  97.1153846154\n",
      "Fold: 5 R2 Score:  97.6923076923\n",
      "Fold: 6 R2 Score:  97.2222222222\n",
      "Fold: 7 R2 Score:  97.2479901051\n",
      "Fold: 8 R2 Score:  97.4296536797\n",
      "Fold: 9 R2 Score:  97.2823472823\n",
      "Fold: 10 R2 Score:  97.2943722944\n",
      "Overall R2 Score: 97.2943722944\n",
      "\n",
      "\n",
      "NN epoch = 1000, lr = 0.5\n",
      "Fold: 1 R2 Score:  97.4358974359\n",
      "Fold: 2 R2 Score:  98.7179487179\n",
      "Fold: 3 R2 Score:  98.7179487179\n",
      "Fold: 4 R2 Score:  98.3974358974\n",
      "Fold: 5 R2 Score:  98.2051282051\n",
      "Fold: 6 R2 Score:  98.2905982906\n",
      "Fold: 7 R2 Score:  97.9782122639\n",
      "Fold: 8 R2 Score:  98.0685980686\n",
      "Fold: 9 R2 Score:  97.8502978503\n",
      "Fold: 10 R2 Score:  97.8055278055\n",
      "Overall R2 Score: 97.8055278055\n",
      "\n",
      "\n"
     ]
    }
   ],
   "source": [
    "print('NN epoch = 100, lr = 0.01')\n",
    "score1 = K_FoldCV(X, default_level, 0.01, default_neurons, 100)\n",
    "print('NN epoch = 100, lr = 0.1')\n",
    "score2 = K_FoldCV(X, default_level, 0.1, default_neurons, 100)\n",
    "print('NN epoch = 100, lr = 0.5')\n",
    "score3 = K_FoldCV(X, default_level, 0.5, default_neurons, 100)\n",
    "\n",
    "print('NN epoch = 500, lr = 0.01')\n",
    "score4 = K_FoldCV(X, default_level, 0.01, default_neurons, 500)\n",
    "print('NN epoch = 500, lr = 0.1')\n",
    "score5 = K_FoldCV(X, default_level, 0.1, default_neurons, 500)\n",
    "print('NN epoch = 500, lr = 0.5')\n",
    "score6 = K_FoldCV(X, default_level, 0.5, default_neurons, 500)\n",
    "\n",
    "print('NN epoch = 1000, lr = 0.01')\n",
    "score7 = K_FoldCV(X, default_level, 0.01, default_neurons, 1000)\n",
    "print('NN epoch = 1000, lr = 0.1')\n",
    "score8 = K_FoldCV(X, default_level, 0.1, default_neurons, 1000)\n",
    "print('NN epoch = 1000, lr = 0.5')\n",
    "score9 = K_FoldCV(X, default_level, 0.5, default_neurons, 1000)\n",
    "\n"
   ]
  },
  {
   "cell_type": "code",
   "execution_count": 23,
   "metadata": {},
   "outputs": [
    {
     "data": {
      "image/png": "[encoded data removed]",
      "text/plain": [
       "<matplotlib.figure.Figure at 0x1760b606470>"
      ]
     },
     "metadata": {},
     "output_type": "display_data"
    }
   ],
   "source": [
    "plt.plot(lrs, [[score1,score2,score3],[score4,score5,score6],[score7,score8,score9]])\n",
    "\n",
    "plt.legend(epochs, title=\"Epoch\")\n",
    "\n",
    "plt.xlabel('Learning Rate')\n",
    "plt.ylabel('R2 score')\n",
    "\n",
    "plt.show()"
   ]
  },
  {
   "cell_type": "markdown",
   "metadata": {},
   "source": [
    "## วิเคราะห์และสรุปผลการทดลอง"
   ]
  },
  {
   "cell_type": "markdown",
   "metadata": {},
   "source": [
    "#### จากการทดลองต่างๆ ได้ผลสรุปดังนี้\n",
    "\n",
    "        การทดลองที่ 1 การทดลองเพื่อทดสอบผลความถูกต้องจาก การจำแนกโดยการ preprocess ที่ต่างกัน โดยการทำ preprocess กับ input data ของ neural network ที่ใช้ attribute ต่างๆ กันออกไป คือ 1. ใช้ attribute เดียว 2. ตัด attribute จำพวกการสรุปจากข้อมูลอื่น 3. ไม่ตัด ใช้ attribute ครบทุกตัว พบว่า 1. การใช้ attribute เดียว ได้ความแม่นยำต่ำมาก เนื่องจากไม่มีความสัมพันธ์ของ input และ output เลย 2. มีความแม่นยำมาก 3. มีความแม่นยำมากที่สุด เนื่องจาก attribute ทุกตัวถูกนำมาใช้ในการคำนวณ\n",
    "        \n",
    "        การทดลองที่ 2 การทดลองเพื่อทดสอบโครงสร้าง NN ที่เหมาะสม โดย 1. มี 1 hidden layer 2. มี 2 hidden layers โดย parameters อื่นๆ คงที่ พบว่า ความแม่นยำของ 2 hidden layers มีความแม่นยำมากกว่า 1 hidden layer เพราะมีการคำนวณเป็นขั้นตอนมากกว่าไปอีก 1 layer แต่ก็ใช้เวลาในการประมวลผลมากกว่าเช่นกัน\n",
    "        \n",
    "        การทดลองที่ 3 การทดลองเพื่อทดสอบ จำนวน node ที่เหมาะสม โดยกำหนดจำนวน node ที่แตกต่างกัน คือ 1 2 และ 16 nodes พบว่า ยิ่งจำนวน node เยอะ ยิ่งมีความแม่นยำของข้อมูลเยอะตามไปด้วย แต่จากการทดลองมีความแม่นยำที่ไม่ต่างกันมาก เนื่องจากผลลัพธ์ output มีแค่ 2 ค่า คือ 0 และ 1 ทำให้จำนวน node ไม่ค่อยมีผลมากสักเท่าไร\n",
    "        \n",
    "        การทดลองที่ 4 ความสัมพันธ์ระหว่างการกำหนดค่า learning rate และ จำนวน epoch โดยกำหนด learning rate และ epoch คือ 100 500 1000 และ 0.01 0.1 0.5 ตามลำดับ พบว่า จำนวน epoch และ learning rate มีผลกับความแม่นยำของ model neural network โดย เมื่อ epoch มากขึ้นจะทำให้ความแม่นยำมากขึ้นไปด้วย จนไปถึงระดับนึงความแม่นยำจะค่อนข้างคงที่ สำหรับ learning rate ยิ่ง learning rate มากขึ้นจะทำให้ model เรียนรู้ได้ไวขึ้น แต่หากเกินจุดๆ นึง อาจทำให้ค่าส่ายไปมา แล้วความแม่นยำจะลดลง ทั้งนี้ ทั้ง 2 ค่าที่กล่าวมา ต้องกำหนดค่าให้อยู่ในช่วงที่พอดี หากมากเกินหรือน้อยเกินไป จะทำให้ความแม่นยำลดลงอย่างเห็นได้ชัด\n",
    "        \n",
    "        สรุปผล พบว่าในการสร้าง neural network ขึ้นมา ต้องคำนึงถึงหลักการต่างๆ และ parameter ต่างๆ ที่มีส่วนเกี่ยวข้อง เพื่อความแม่นยำที่ดีที่สุด ต้องทำการทดลองเพื่อหาค่าที่เหมาะสมมากที่สุด เพื่อที่จะได้ neural network ที่ดีที่สุด"
   ]
  }
 ],
 "metadata": {
  "kernelspec": {
   "display_name": "Python 3",
   "language": "python",
   "name": "python3"
  },
  "language_info": {
   "codemirror_mode": {
    "name": "ipython",
    "version": 3
   },
   "file_extension": ".py",
   "mimetype": "text/x-python",
   "name": "python",
   "nbconvert_exporter": "python",
   "pygments_lexer": "ipython3",
   "version": "3.6.3"
  }
 },
 "nbformat": 4,
 "nbformat_minor": 2
}
